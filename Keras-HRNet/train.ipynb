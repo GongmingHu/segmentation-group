{
 "cells": [
  {
   "cell_type": "markdown",
   "metadata": {},
   "source": [
    "# 1. Dependency libraries"
   ]
  },
  {
   "cell_type": "code",
   "execution_count": null,
   "metadata": {},
   "outputs": [],
   "source": [
    "from model.seg_hrnet import seg_hrnet\n",
    "from utils.loss import *\n",
    "from utils.metrics import *\n",
    "from dataloaders.generater import *\n",
    "import os\n",
    "from keras.callbacks import ModelCheckpoint, EarlyStopping\n",
    "from keras.optimizers import SGD"
   ]
  },
  {
   "cell_type": "markdown",
   "metadata": {},
   "source": [
    "# 2. Params"
   ]
  },
  {
   "cell_type": "code",
   "execution_count": null,
   "metadata": {},
   "outputs": [],
   "source": [
    "# network params\n",
    "BatchSize = 1\n",
    "NumChannels = 3\n",
    "ImgHeight = 512\n",
    "ImgWidth = 512\n",
    "NumClass = 1\n",
    "\n",
    "# training params\n",
    "GPUs = '0'\n",
    "os.environ[\"CUDA_VISIBLE_DEVICES\"] = GPUs\n",
    "Optimizer = 'Adam'  # SGD(lr=0.01, decay=1e-6, momentum=0.9, nesterov=True)\n",
    "Loss = dice_loss\n",
    "Metrics = ['accuracy', iou]\n",
    "NumEpochs = 100\n",
    "Patience = 10\n",
    "\n",
    "# data params\n",
    "TrainImageDir = 'D:/DATA/AerialImageDataset/data/train/images/'\n",
    "ValImageDir = 'D:/DATA/AerialImageDataset/data/train/gt/'\n",
    "\n",
    "# visualization params\n",
    "metric_list = ['acc', 'iou']"
   ]
  },
  {
   "cell_type": "code",
   "execution_count": null,
   "metadata": {},
   "outputs": [],
   "source": [
    "model = seg_hrnet(BatchSize, ImgHeight, ImgWidth, NumChannels, NumClass)\n",
    "model.summary()\n",
    "model.compile(optimizer=Optimizer, loss=Loss, metrics=Metrics)"
   ]
  },
  {
   "cell_type": "code",
   "execution_count": null,
   "metadata": {},
   "outputs": [],
   "source": [
    "model_path = \"seg_hrnet-{epoch:02d}-{val_loss:.4f}-{val_acc:.4f}-{val_iou:.4f}.hdf5\"\n",
    "model_checkpoint = ModelCheckpoint(model_path, monitor='val_iou', mode='max', verbose=1, save_best_only=False)\n",
    "early_stop = EarlyStopping(monitor='val_iou', mode='max', patience=Patience)\n",
    "check_point_list = [model_checkpoint, early_stop]"
   ]
  },
  {
   "cell_type": "code",
   "execution_count": null,
   "metadata": {},
   "outputs": [],
   "source": [
    "train_paths, val_paths = get_data_paths(TrainImageDir, ValImageDir)\n",
    "train_steps = len(train_paths) // BatchSize\n",
    "val_steps = len(val_paths) // BatchSize"
   ]
  },
  {
   "cell_type": "code",
   "execution_count": null,
   "metadata": {
    "scrolled": true
   },
   "outputs": [],
   "source": [
    "result = model.fit_generator(\n",
    "    generator=batch_generator(train_paths, BatchSize),\n",
    "    steps_per_epoch=train_steps,\n",
    "    epochs=NumEpochs,\n",
    "    verbose=1,\n",
    "    validation_data=batch_generator(val_paths, BatchSize),\n",
    "    validation_steps=val_steps,\n",
    "    callbacks=check_point_list)"
   ]
  },
  {
   "cell_type": "code",
   "execution_count": null,
   "metadata": {},
   "outputs": [],
   "source": [
    "plt.figure()\n",
    "for metric ioun metric_list:\n",
    "    plt.plot(result.epoch, result.history[metric], label=metric)\n",
    "    plt.scatter(result.epoch, result.history[metric], marker='*')\n",
    "    val_metric = 'val_' + metric\n",
    "    plt.plot(result.epoch, result.history[val_metric], label=val_metric)\n",
    "    plt.scatter(result.epoch, result.history[val_metric], marker='*')\n",
    "plt.legend(loc='under right')\n",
    "plt.show()\n",
    "\n",
    "plt.figure()\n",
    "plt.plot(result.epoch, result.history['loss'], label=\"loss\")\n",
    "plt.plot(result.epoch, result.history['val_loss'], label=\"val_loss\")\n",
    "plt.scatter(result.epoch, result.history['loss'], marker='*')\n",
    "plt.scatter(result.epoch, result.history['val_loss'], marker='*')\n",
    "plt.legend(loc='upper right')\n",
    "plt.show()"
   ]
  }
 ],
 "metadata": {
  "kernelspec": {
   "display_name": "Python 3",
   "language": "python",
   "name": "python3"
  },
  "language_info": {
   "codemirror_mode": {
    "name": "ipython",
    "version": 3
   },
   "file_extension": ".py",
   "mimetype": "text/x-python",
   "name": "python",
   "nbconvert_exporter": "python",
   "pygments_lexer": "ipython3",
   "version": "3.6.5"
  }
 },
 "nbformat": 4,
 "nbformat_minor": 2
}
